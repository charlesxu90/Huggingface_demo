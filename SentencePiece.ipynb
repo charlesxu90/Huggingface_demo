{
 "cells": [
  {
   "cell_type": "code",
   "execution_count": 3,
   "id": "490019e1-b20a-455c-8a82-321e67247694",
   "metadata": {},
   "outputs": [],
   "source": [
    "#!pip install sentencepiece"
   ]
  },
  {
   "cell_type": "code",
   "execution_count": 4,
   "id": "0448bce0-bfbe-49bd-8402-13e9f6993be0",
   "metadata": {},
   "outputs": [],
   "source": [
    "import sentencepiece as spm"
   ]
  },
  {
   "cell_type": "code",
   "execution_count": 8,
   "id": "fa25f580-b1bc-496b-8453-3bb0440af027",
   "metadata": {},
   "outputs": [
    {
     "name": "stdout",
     "output_type": "stream",
     "text": [
      "*** BPE ***\n",
      "['▁Cc', '1', 'cc', '2', 'c', '(', 'c', '3', 'oc', '(', 'CCCC', '#', 'N', ')', 'cc', '13)', 'C', '(=', 'O', ')', 'c', '1', 'c', '(', 'O', ')', 'cccc', '1', 'C', '2=', 'O']\n",
      "CPU times: user 59 s, sys: 4.16 s, total: 1min 3s\n",
      "Wall time: 57.4 s\n"
     ]
    }
   ],
   "source": [
    "%%time\n",
    "spm.SentencePieceTrainer.train('--input=guacamol_v1_train.smiles --model_prefix=example_bpe --vocab_size=1000 --model_type=bpe')\n",
    "sp_bpe = spm.SentencePieceProcessor()\n",
    "sp_bpe.load('example_bpe.model')\n",
    "\n",
    "print('*** BPE ***')\n",
    "print(sp_bpe.encode_as_pieces(\"Cc1cc2c(c3oc(CCCC#N)cc13)C(=O)c1c(O)cccc1C2=O\"))"
   ]
  },
  {
   "cell_type": "code",
   "execution_count": 11,
   "id": "74a0bd16-2632-4e14-9dd0-c8ed8b5ed276",
   "metadata": {},
   "outputs": [
    {
     "name": "stdout",
     "output_type": "stream",
     "text": [
      "*** BPE ***\n",
      "['▁C', 'c', '1', 'cc', '2', 'c', '(', 'c', '3', 'oc', '(', 'CCCC', '#', 'N', ')', 'cc', '1', '3)', 'C', '(=', 'O', ')', 'c', '1', 'c', '(', 'O', ')', 'ccc', 'c', '1', 'C', '2', '=', 'O']\n",
      "CPU times: user 6min 32s, sys: 2.05 s, total: 6min 34s\n",
      "Wall time: 1min 1s\n"
     ]
    }
   ],
   "source": [
    "%%time\n",
    "spm.SentencePieceTrainer.train('--input=guacamol_v1_train.smiles --model_prefix=example_sp --vocab_size=300')\n",
    "\n",
    "\n",
    "\n",
    "sp_bpe = spm.SentencePieceProcessor()\n",
    "sp_bpe.load('example_sp.model')\n",
    "print('*** BPE ***')\n",
    "print(sp_bpe.encode_as_pieces(\"Cc1cc2c(c3oc(CCCC#N)cc13)C(=O)c1c(O)cccc1C2=O\"))"
   ]
  },
  {
   "cell_type": "code",
   "execution_count": 13,
   "id": "26ba4161-a7af-4df5-8f82-49a0e96f15f5",
   "metadata": {},
   "outputs": [
    {
     "name": "stdout",
     "output_type": "stream",
     "text": [
      "<class 'list'>\n"
     ]
    }
   ],
   "source": [
    "print(type(sp_bpe.encode(\"Cc1cc2c(c3oc(CCCC#N)cc13)C(=O)c1c(O)cccc1C2=O\")))"
   ]
  },
  {
   "cell_type": "code",
   "execution_count": null,
   "id": "558ea56f-bdcf-4d58-8d6f-ccc2fe4e909d",
   "metadata": {},
   "outputs": [],
   "source": []
  }
 ],
 "metadata": {
  "kernelspec": {
   "display_name": "Python 3",
   "language": "python",
   "name": "python3"
  },
  "language_info": {
   "codemirror_mode": {
    "name": "ipython",
    "version": 3
   },
   "file_extension": ".py",
   "mimetype": "text/x-python",
   "name": "python",
   "nbconvert_exporter": "python",
   "pygments_lexer": "ipython3",
   "version": "3.8.5"
  }
 },
 "nbformat": 4,
 "nbformat_minor": 5
}
