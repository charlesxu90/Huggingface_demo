{
 "cells": [
  {
   "cell_type": "code",
   "execution_count": 1,
   "id": "490019e1-b20a-455c-8a82-321e67247694",
   "metadata": {},
   "outputs": [
    {
     "name": "stdout",
     "output_type": "stream",
     "text": [
      "Collecting sentencepiece\n",
      "  Downloading sentencepiece-0.1.96-cp38-cp38-manylinux_2_17_x86_64.manylinux2014_x86_64.whl (1.2 MB)\n",
      "\u001b[K     |████████████████████████████████| 1.2 MB 955 kB/s eta 0:00:01\n",
      "\u001b[?25hInstalling collected packages: sentencepiece\n",
      "Successfully installed sentencepiece-0.1.96\n"
     ]
    }
   ],
   "source": [
    "#!pip install sentencepiece"
   ]
  },
  {
   "cell_type": "markdown",
   "id": "74e53cd2-7b17-46a5-a798-594dba01769b",
   "metadata": {},
   "source": [
    "# Train tokenizer"
   ]
  },
  {
   "cell_type": "code",
   "execution_count": 2,
   "id": "0448bce0-bfbe-49bd-8402-13e9f6993be0",
   "metadata": {},
   "outputs": [],
   "source": [
    "import sentencepiece as spm"
   ]
  },
  {
   "cell_type": "code",
   "execution_count": null,
   "id": "160088c6-de09-424a-9cbd-7852f8739321",
   "metadata": {},
   "outputs": [],
   "source": [
    "%%time\n",
    "spm.SentencePieceTrainer.train('--input=guacamol_v1_train.smiles --model_prefix=example_sp --vocab_size=300')"
   ]
  },
  {
   "cell_type": "code",
   "execution_count": 3,
   "id": "74a0bd16-2632-4e14-9dd0-c8ed8b5ed276",
   "metadata": {},
   "outputs": [
    {
     "name": "stdout",
     "output_type": "stream",
     "text": [
      "*** BPE ***\n",
      "['▁C', 'c', '1', 'cc', '2', 'c', '(', 'c', '3', 'oc', '(', 'CCCC', '#', 'N', ')', 'cc', '1', '3)', 'C', '(=', 'O', ')', 'c', '1', 'c', '(', 'O', ')', 'ccc', 'c', '1', 'C', '2', '=', 'O']\n",
      "CPU times: user 2.86 ms, sys: 3.9 ms, total: 6.76 ms\n",
      "Wall time: 101 ms\n"
     ]
    }
   ],
   "source": [
    "%%time\n",
    "sp_bpe = spm.SentencePieceProcessor()\n",
    "sp_bpe.load('example_sp.model')\n",
    "print('*** BPE ***')\n",
    "print(sp_bpe.encode_as_pieces(\"Cc1cc2c(c3oc(CCCC#N)cc13)C(=O)c1c(O)cccc1C2=O\"))"
   ]
  },
  {
   "cell_type": "code",
   "execution_count": 9,
   "id": "26ba4161-a7af-4df5-8f82-49a0e96f15f5",
   "metadata": {},
   "outputs": [
    {
     "name": "stdout",
     "output_type": "stream",
     "text": [
      "[24, 4, 7, 14, 9, 4, 6, 4, 12, 52, 6, 41, 37, 11, 5, 14, 7, 26, 3, 10, 8, 5, 4, 7, 4, 6, 8, 5, 13, 4, 7, 3, 9, 15, 8]\n"
     ]
    }
   ],
   "source": [
    "print(sp_bpe.encode(\"Cc1cc2c(c3oc(CCCC#N)cc13)C(=O)c1c(O)cccc1C2=O\"))"
   ]
  },
  {
   "cell_type": "code",
   "execution_count": 8,
   "id": "2fd4f39c-fe1d-4ecd-bbb0-21b4560afba9",
   "metadata": {},
   "outputs": [
    {
     "name": "stdout",
     "output_type": "stream",
     "text": [
      "['Cc1cc2c(c3oc(CCCC#N)cc13)C(=O)c1c(O)cccc1C2=O', 'Cc1cc2c(c3oc(CCCC#N)cc13)C(=O)c1c(O)cccc1C2=O']\n"
     ]
    }
   ],
   "source": [
    "print(sp_bpe.decode([[24, 4, 7, 14, 9, 4, 6, 4, 12, 52, 6, 41, 37, 11, 5, 14, 7, 26, 3, 10, 8, 5, 4, 7, 4, 6, 8, 5, 13, 4, 7, 3, 9, 15, 8],\n",
    "                     [24, 4, 7, 14, 9, 4, 6, 4, 12, 52, 6, 41, 37, 11, 5, 14, 7, 26, 3, 10, 8, 5, 4, 7, 4, 6, 8, 5, 13, 4, 7, 3, 9, 15, 8]]))"
   ]
  },
  {
   "cell_type": "code",
   "execution_count": 12,
   "id": "ff92298a-a250-4961-adcf-4d4478570afb",
   "metadata": {},
   "outputs": [
    {
     "data": {
      "text/plain": [
       "300"
      ]
     },
     "execution_count": 12,
     "metadata": {},
     "output_type": "execute_result"
    }
   ],
   "source": [
    "sp_bpe.get_piece_size()"
   ]
  },
  {
   "cell_type": "code",
   "execution_count": 14,
   "id": "0ec082b4-e76d-463d-9795-e0b26fbb99d0",
   "metadata": {},
   "outputs": [
    {
     "data": {
      "text/plain": [
       "'</s>'"
      ]
     },
     "execution_count": 14,
     "metadata": {},
     "output_type": "execute_result"
    }
   ],
   "source": [
    "sp_bpe.id_to_piece(2)"
   ]
  },
  {
   "cell_type": "code",
   "execution_count": 15,
   "id": "255c7e0f-a3f0-44b9-ab1b-56bcaf5f7ee4",
   "metadata": {},
   "outputs": [
    {
     "data": {
      "text/plain": [
       "['</s>', 'C', 'c']"
      ]
     },
     "execution_count": 15,
     "metadata": {},
     "output_type": "execute_result"
    }
   ],
   "source": [
    "sp_bpe.id_to_piece([2, 3, 4])"
   ]
  },
  {
   "cell_type": "code",
   "execution_count": 7,
   "id": "0ca51d20-bd1a-4412-81e4-336c268f8a8b",
   "metadata": {},
   "outputs": [
    {
     "data": {
      "text/plain": [
       "0"
      ]
     },
     "execution_count": 7,
     "metadata": {},
     "output_type": "execute_result"
    }
   ],
   "source": [
    "sp_bpe.piece_to_id('<unk>')"
   ]
  },
  {
   "cell_type": "code",
   "execution_count": 4,
   "id": "35df982e-f20c-4656-b455-c9cd31a51d7a",
   "metadata": {},
   "outputs": [
    {
     "data": {
      "text/plain": [
       "1"
      ]
     },
     "execution_count": 4,
     "metadata": {},
     "output_type": "execute_result"
    }
   ],
   "source": [
    "sp_bpe.piece_to_id('<s>')"
   ]
  },
  {
   "cell_type": "code",
   "execution_count": 6,
   "id": "757a3a34-d7ae-4bd7-bb1c-5909810b439a",
   "metadata": {},
   "outputs": [
    {
     "data": {
      "text/plain": [
       "2"
      ]
     },
     "execution_count": 6,
     "metadata": {},
     "output_type": "execute_result"
    }
   ],
   "source": [
    "sp_bpe.piece_to_id('</s>')"
   ]
  },
  {
   "cell_type": "code",
   "execution_count": 18,
   "id": "04a14411-c808-4b5d-a7d4-f409ba3c0b61",
   "metadata": {},
   "outputs": [
    {
     "data": {
      "text/plain": [
       "[2, 0, 63]"
      ]
     },
     "execution_count": 18,
     "metadata": {},
     "output_type": "execute_result"
    }
   ],
   "source": [
    "sp_bpe.piece_to_id(['</s>', '\\r', '▁'])"
   ]
  },
  {
   "cell_type": "code",
   "execution_count": 19,
   "id": "86df9e84-babe-40e7-bd72-e019ce065aa0",
   "metadata": {},
   "outputs": [
    {
     "data": {
      "text/plain": [
       "300"
      ]
     },
     "execution_count": 19,
     "metadata": {},
     "output_type": "execute_result"
    }
   ],
   "source": [
    "len(sp_bpe)"
   ]
  },
  {
   "cell_type": "markdown",
   "id": "a69bfebf-3c3e-433b-a9ad-4e030fc4af4d",
   "metadata": {},
   "source": [
    "# Train minGPT model"
   ]
  },
  {
   "cell_type": "code",
   "execution_count": 9,
   "id": "7ccdbe1e-a081-44ba-a7e4-895a85cef617",
   "metadata": {},
   "outputs": [],
   "source": [
    "# make deterministic\n",
    "from mingpt.utils import set_seed\n",
    "set_seed(42)"
   ]
  },
  {
   "cell_type": "code",
   "execution_count": 10,
   "id": "558ea56f-bdcf-4d58-8d6f-ccc2fe4e909d",
   "metadata": {},
   "outputs": [],
   "source": [
    "# set up logging\n",
    "import logging\n",
    "logging.basicConfig(\n",
    "        format=\"%(asctime)s - %(levelname)s - %(name)s -   %(message)s\",\n",
    "        datefmt=\"%m/%d/%Y %H:%M:%S\",\n",
    "        level=logging.INFO,\n",
    ")"
   ]
  },
  {
   "cell_type": "code",
   "execution_count": 11,
   "id": "0a496728-f7d5-46ce-8fbb-2e3468b8a665",
   "metadata": {},
   "outputs": [],
   "source": [
    "import numpy as np\n",
    "import torch\n",
    "import torch.nn as nn\n",
    "from torch.nn import functional as F"
   ]
  },
  {
   "cell_type": "code",
   "execution_count": 30,
   "id": "171161d7-8b4b-40d8-ab7b-3c96b035fb1b",
   "metadata": {},
   "outputs": [],
   "source": [
    "import math\n",
    "from torch.utils.data import Dataset\n",
    "\n",
    "class CharDataset(Dataset):\n",
    "\n",
    "    def __init__(self, data, block_size, sp):\n",
    "        self.sp = sp\n",
    "        self.block_size = block_size\n",
    "        self.vocab_size = len(sp)\n",
    "        self.data = self.sp.encode(data)\n",
    "\n",
    "        print('data has %d characters, %d unique pieces, %d after encoded.' % (len(data), self.vocab_size, len(self.data)))\n",
    "\n",
    "    def __len__(self):\n",
    "        return len(self.data) - self.block_size\n",
    "\n",
    "    def __getitem__(self, idx):\n",
    "        # grab a chunk of (block_size + 1) from the data\n",
    "        chunk = self.data[idx:idx + self.block_size + 1]\n",
    "\n",
    "        x = torch.tensor(chunk[:-1], dtype=torch.long)\n",
    "        y = torch.tensor(chunk[1:], dtype=torch.long)\n",
    "        return x, y"
   ]
  },
  {
   "cell_type": "code",
   "execution_count": 31,
   "id": "9d58a410-eb2b-4f34-a47e-1db003a0a043",
   "metadata": {},
   "outputs": [
    {
     "name": "stdout",
     "output_type": "stream",
     "text": [
      "data has 61841218 characters, 300 unique pieces, 49406762 after encoded.\n"
     ]
    }
   ],
   "source": [
    "block_size = 128 # spatial extent of the model for its context\n",
    "\n",
    "text = open('guacamol_v1_train.smiles', 'r').read() # don't worry we won't run out of file handles\n",
    "train_dataset = CharDataset(text, block_size, sp_bpe) # one line of poem is roughly 50 characters"
   ]
  },
  {
   "cell_type": "code",
   "execution_count": 32,
   "id": "704138e4-bf95-4a45-8dba-841d8d770a2a",
   "metadata": {},
   "outputs": [
    {
     "data": {
      "text/plain": [
       "'CCC(C)(C)Br\\nCCCN(CCc1cccc(-c2ccccc2)c1)C(=O)C1OC(C(=O)O)=CC(N)C1NC(C)=O\\nOc1ccc(C2CC(c3ccccc3)=NN2C(=S)Nc2ccccc2)cc1\\nCC1(C)OCC2OC3'"
      ]
     },
     "execution_count": 32,
     "metadata": {},
     "output_type": "execute_result"
    }
   ],
   "source": [
    "chunk = text[0:block_size + 1]\n",
    "chunk"
   ]
  },
  {
   "cell_type": "code",
   "execution_count": 33,
   "id": "f98532c4-264a-44b4-8278-d8130ea25fb2",
   "metadata": {},
   "outputs": [
    {
     "data": {
      "text/plain": [
       "(tensor([ 28,   3,   6,   3,   5,   6,   3,   5,  44, 104,   6,   3,   3,   4,\n",
       "           7,  13,   4,  23,   4,   9,  17,  19,   4,   7,   5,   3,  10,   8,\n",
       "           5,   3,   7,   8,   3,   6,   3,  10,   8,   5,   8,   5,  15,   3,\n",
       "           3,   6,  11,   5,   3,   7,  22,   6,   3,   5,  15,   8,  31,   4,\n",
       "           7,  13,   6,   3,   9,   3,   3,   6,   4,  12,  17,  26,  15,  11,\n",
       "          11,   9,   3,  10,  27,   5,  11,   4,   9,  17,  19,  14,   7,  28,\n",
       "           7,   6,   3,   5,   8,   3,   3,   9,   8,   3,  12,   6,   3,  21,\n",
       "           8,   3,   6,   3,   5,   6,   3,   5,   8,   3,  21,   3,   8,   5,\n",
       "           8,   3,   6,   3,   5,   6,   3,   5,   8,   3,  12,   3,   9,   8,\n",
       "           7,  32]),\n",
       " tensor([  3,   6,   3,   5,   6,   3,   5,  44, 104,   6,   3,   3,   4,   7,\n",
       "          13,   4,  23,   4,   9,  17,  19,   4,   7,   5,   3,  10,   8,   5,\n",
       "           3,   7,   8,   3,   6,   3,  10,   8,   5,   8,   5,  15,   3,   3,\n",
       "           6,  11,   5,   3,   7,  22,   6,   3,   5,  15,   8,  31,   4,   7,\n",
       "          13,   6,   3,   9,   3,   3,   6,   4,  12,  17,  26,  15,  11,  11,\n",
       "           9,   3,  10,  27,   5,  11,   4,   9,  17,  19,  14,   7,  28,   7,\n",
       "           6,   3,   5,   8,   3,   3,   9,   8,   3,  12,   6,   3,  21,   8,\n",
       "           3,   6,   3,   5,   6,   3,   5,   8,   3,  21,   3,   8,   5,   8,\n",
       "           3,   6,   3,   5,   6,   3,   5,   8,   3,  12,   3,   9,   8,   7,\n",
       "          32,   3]))"
      ]
     },
     "execution_count": 33,
     "metadata": {},
     "output_type": "execute_result"
    }
   ],
   "source": [
    "train_dataset[0]"
   ]
  },
  {
   "cell_type": "code",
   "execution_count": 34,
   "id": "669eed2f-8061-4925-b727-a8e0d65e5a24",
   "metadata": {},
   "outputs": [
    {
     "name": "stderr",
     "output_type": "stream",
     "text": [
      "09/27/2021 11:34:39 - INFO - mingpt.model -   number of parameters: 2.559283e+07\n"
     ]
    }
   ],
   "source": [
    "from mingpt.model import GPT, GPTConfig\n",
    "mconf = GPTConfig(train_dataset.vocab_size, train_dataset.block_size,\n",
    "                  n_layer=8, n_head=8, n_embd=512)\n",
    "model = GPT(mconf)"
   ]
  },
  {
   "cell_type": "code",
   "execution_count": null,
   "id": "6722d575-1a48-49e6-8d70-b08cc9a0b589",
   "metadata": {},
   "outputs": [
    {
     "name": "stderr",
     "output_type": "stream",
     "text": [
      "[W pthreadpool-cpp.cc:90] Warning: Leaking Caffe2 thread-pool after fork. (function pthreadpool)\n",
      "[W pthreadpool-cpp.cc:90] Warning: Leaking Caffe2 thread-pool after fork. (function pthreadpool)\n",
      "[W pthreadpool-cpp.cc:90] Warning: Leaking Caffe2 thread-pool after fork. (function pthreadpool)\n",
      "[W pthreadpool-cpp.cc:90] Warning: Leaking Caffe2 thread-pool after fork. (function pthreadpool)\n",
      "  0%|          | 0/96498 [00:00<?, ?it/s]/home/xux/miniconda3/envs/ml-env/lib/python3.8/site-packages/torch/nn/parallel/_functions.py:68: UserWarning: Was asked to gather along dimension 0, but all input tensors were scalars; will instead unsqueeze and return a vector.\n",
      "  warnings.warn('Was asked to gather along dimension 0, but all '\n",
      "epoch 1 iter 25931: train loss 0.62981. lr 5.736664e-04:  27%|██▋       | 25932/96498 [4:10:56<11:16:51,  1.74it/s]"
     ]
    }
   ],
   "source": [
    "from mingpt.trainer import Trainer, TrainerConfig\n",
    "\n",
    "# initialize a trainer instance and kick off training\n",
    "tconf = TrainerConfig(max_epochs=2, batch_size=512, learning_rate=6e-4,\n",
    "                      lr_decay=True, warmup_tokens=512*20, final_tokens=2*len(train_dataset)*block_size,\n",
    "                      num_workers=4)\n",
    "trainer = Trainer(model, train_dataset, None, tconf)\n",
    "trainer.train()"
   ]
  },
  {
   "cell_type": "code",
   "execution_count": null,
   "id": "0957a7f3-bd47-4cb7-abbf-63f2a2dc9b64",
   "metadata": {},
   "outputs": [],
   "source": [
    "# alright, let's sample some character-level Shakespeare\n",
    "from mingpt.utils import sample\n",
    "\n",
    "context = \"C\"\n",
    "x = torch.tensor([train_dataset.stoi[s] for s in context], dtype=torch.long)[None,...].to(trainer.device)\n",
    "y = sample(model, x, 2000, temperature=1.0, sample=True, top_k=10)[0]\n",
    "completion = ''.join([train_dataset.itos[int(i)] for i in y])\n",
    "print(completion)"
   ]
  },
  {
   "cell_type": "code",
   "execution_count": null,
   "id": "09294152-29e9-42db-ad32-543222cc14a1",
   "metadata": {},
   "outputs": [],
   "source": []
  }
 ],
 "metadata": {
  "kernelspec": {
   "display_name": "Python 3 (ipykernel)",
   "language": "python",
   "name": "python3"
  },
  "language_info": {
   "codemirror_mode": {
    "name": "ipython",
    "version": 3
   },
   "file_extension": ".py",
   "mimetype": "text/x-python",
   "name": "python",
   "nbconvert_exporter": "python",
   "pygments_lexer": "ipython3",
   "version": "3.8.10"
  }
 },
 "nbformat": 4,
 "nbformat_minor": 5
}
